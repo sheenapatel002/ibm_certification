{
 "cells": [
  {
   "cell_type": "markdown",
   "id": "d330fac3-da01-42f3-ba97-3760935e786e",
   "metadata": {},
   "source": [
    "# Data Science Tools and Ecosystem"
   ]
  },
  {
   "cell_type": "markdown",
   "id": "adee5d4c-3408-47c6-906c-ae3db9fbcc33",
   "metadata": {},
   "source": [
    "In this notebook, Data Science Tools and Ecosystem are summarized."
   ]
  },
  {
   "cell_type": "markdown",
   "id": "3acf6524-c094-4854-9bbd-a9d011af38a2",
   "metadata": {},
   "source": [
    "Some of the popular languages Data Scientists use are:\n",
    "1. Python\n",
    "2. R\n",
    "3. SQL"
   ]
  },
  {
   "cell_type": "markdown",
   "id": "ae6f32b7-f9af-4b80-8ab9-3c44ecfb563e",
   "metadata": {},
   "source": [
    "Some of the commonly used libraries used by Data Scientists include:\n",
    "1. Pandas\n",
    "2. NumPy\n",
    "3. scikit-learn"
   ]
  },
  {
   "cell_type": "markdown",
   "id": "60cf24a2-1c17-43a8-8d03-9df6e37fc7ee",
   "metadata": {},
   "source": [
    "| Data Science Tools |\n",
    "| ------------------ |\n",
    "| Jupyter Notebook   |\n",
    "| Rstudio            |\n",
    "| Visual Studio Code |"
   ]
  },
  {
   "cell_type": "markdown",
   "id": "57e22915-029f-4a7b-9d5f-eb289bbcee58",
   "metadata": {},
   "source": [
    "### Below are a few examples of evaluating arithmetic expressions in Python"
   ]
  },
  {
   "cell_type": "code",
   "execution_count": 4,
   "id": "d243fe6d-8625-487d-a297-0c9172af3baf",
   "metadata": {},
   "outputs": [
    {
     "data": {
      "text/plain": [
       "17"
      ]
     },
     "execution_count": 4,
     "metadata": {},
     "output_type": "execute_result"
    }
   ],
   "source": [
    "# This a simple arithmetic expression to mutiply then add integers\n",
    "(3*4)+5"
   ]
  },
  {
   "cell_type": "code",
   "execution_count": 10,
   "id": "2da276b9-b79f-4969-a696-9ecf6333b0c2",
   "metadata": {},
   "outputs": [
    {
     "name": "stdout",
     "output_type": "stream",
     "text": [
      "3.3333333333333335 hours\n"
     ]
    }
   ],
   "source": [
    "# This will convert 200 minutes to hours by diving by 60\n",
    "def min_to_hours(mins):\n",
    "    hours = mins / 60\n",
    "    return str(hours)\n",
    "\n",
    "print(min_to_hours(200) + \" hours\")"
   ]
  },
  {
   "cell_type": "markdown",
   "id": "05953728-1822-4113-9da2-bbfd16443b11",
   "metadata": {},
   "source": [
    "**Objectives:**\n",
    "- List popular languages for Data Science\n",
    "- List common Data Science libraries\n",
    "- Provide popular Data Science tools\n",
    "- Provide examples of expression evaluation with Python"
   ]
  },
  {
   "cell_type": "markdown",
   "id": "0564263a-cdd9-4621-821a-5ac51cf81cbd",
   "metadata": {},
   "source": [
    "## Author\n",
    "Sheena Patel"
   ]
  }
 ],
 "metadata": {
  "kernelspec": {
   "display_name": "Python 3 (ipykernel)",
   "language": "python",
   "name": "python3"
  },
  "language_info": {
   "codemirror_mode": {
    "name": "ipython",
    "version": 3
   },
   "file_extension": ".py",
   "mimetype": "text/x-python",
   "name": "python",
   "nbconvert_exporter": "python",
   "pygments_lexer": "ipython3",
   "version": "3.11.9"
  }
 },
 "nbformat": 4,
 "nbformat_minor": 5
}
